{
  "nbformat": 4,
  "nbformat_minor": 0,
  "metadata": {
    "colab": {
      "name": "Binder Paraphraser Test.ipynb",
      "provenance": [],
      "mount_file_id": "1tAaxdEtd8GR9I9BMk7Y4Edroiqquktz4",
      "authorship_tag": "ABX9TyPnhi/8zNHrkWKtqdhn7g0+",
      "include_colab_link": true
    },
    "kernelspec": {
      "name": "python3",
      "display_name": "Python 3"
    },
    "language_info": {
      "name": "python"
    },
    "widgets": {
      "application/vnd.jupyter.widget-state+json": {
        "dbde7e0247d04e0588f77e748588536c": {
          "model_module": "@jupyter-widgets/controls",
          "model_name": "ButtonModel",
          "model_module_version": "1.5.0",
          "state": {
            "_dom_classes": [],
            "_model_module": "@jupyter-widgets/controls",
            "_model_module_version": "1.5.0",
            "_model_name": "ButtonModel",
            "_view_count": null,
            "_view_module": "@jupyter-widgets/controls",
            "_view_module_version": "1.5.0",
            "_view_name": "ButtonView",
            "button_style": "",
            "description": "Paraphrase",
            "disabled": false,
            "icon": "",
            "layout": "IPY_MODEL_aece13dd28cb427fb7d12ef79c5ef2f7",
            "style": "IPY_MODEL_ebbda078d1bb4051b26322f17588b208",
            "tooltip": ""
          }
        },
        "aece13dd28cb427fb7d12ef79c5ef2f7": {
          "model_module": "@jupyter-widgets/base",
          "model_name": "LayoutModel",
          "model_module_version": "1.2.0",
          "state": {
            "_model_module": "@jupyter-widgets/base",
            "_model_module_version": "1.2.0",
            "_model_name": "LayoutModel",
            "_view_count": null,
            "_view_module": "@jupyter-widgets/base",
            "_view_module_version": "1.2.0",
            "_view_name": "LayoutView",
            "align_content": null,
            "align_items": null,
            "align_self": null,
            "border": null,
            "bottom": null,
            "display": null,
            "flex": null,
            "flex_flow": null,
            "grid_area": null,
            "grid_auto_columns": null,
            "grid_auto_flow": null,
            "grid_auto_rows": null,
            "grid_column": null,
            "grid_gap": null,
            "grid_row": null,
            "grid_template_areas": null,
            "grid_template_columns": null,
            "grid_template_rows": null,
            "height": null,
            "justify_content": null,
            "justify_items": null,
            "left": null,
            "margin": null,
            "max_height": null,
            "max_width": null,
            "min_height": null,
            "min_width": null,
            "object_fit": null,
            "object_position": null,
            "order": null,
            "overflow": null,
            "overflow_x": null,
            "overflow_y": null,
            "padding": null,
            "right": null,
            "top": null,
            "visibility": null,
            "width": null
          }
        },
        "ebbda078d1bb4051b26322f17588b208": {
          "model_module": "@jupyter-widgets/controls",
          "model_name": "ButtonStyleModel",
          "model_module_version": "1.5.0",
          "state": {
            "_model_module": "@jupyter-widgets/controls",
            "_model_module_version": "1.5.0",
            "_model_name": "ButtonStyleModel",
            "_view_count": null,
            "_view_module": "@jupyter-widgets/base",
            "_view_module_version": "1.2.0",
            "_view_name": "StyleView",
            "button_color": null,
            "font_weight": ""
          }
        }
      }
    }
  },
  "cells": [
    {
      "cell_type": "markdown",
      "metadata": {
        "id": "view-in-github",
        "colab_type": "text"
      },
      "source": [
        "<a href=\"https://colab.research.google.com/github/wendy705/guen_test_message/blob/main/Binder_Paraphraser_Test.ipynb\" target=\"_parent\"><img src=\"https://colab.research.google.com/assets/colab-badge.svg\" alt=\"Open In Colab\"/></a>"
      ]
    },
    {
      "cell_type": "code",
      "execution_count": 1,
      "metadata": {
        "colab": {
          "base_uri": "https://localhost:8080/"
        },
        "id": "KB6URK4vS0N1",
        "outputId": "5d4743f8-30c5-4230-d127-30c25fd0ffa9"
      },
      "outputs": [
        {
          "output_type": "stream",
          "name": "stdout",
          "text": [
            "\u001b[K     |████████████████████████████████| 4.7 MB 16.1 MB/s \n",
            "\u001b[K     |████████████████████████████████| 596 kB 68.9 MB/s \n",
            "\u001b[K     |████████████████████████████████| 6.6 MB 63.6 MB/s \n",
            "\u001b[K     |████████████████████████████████| 101 kB 10.1 MB/s \n",
            "\u001b[K     |████████████████████████████████| 1.3 MB 14.7 MB/s \n",
            "\u001b[?25h"
          ]
        }
      ],
      "source": [
        "!pip install transformers -q\n",
        "!pip install sentencepiece -q"
      ]
    },
    {
      "cell_type": "code",
      "source": [
        "!pip install voila -q\n",
        "!jupyter serverextension enable --sys-prefix voila"
      ],
      "metadata": {
        "colab": {
          "base_uri": "https://localhost:8080/"
        },
        "id": "um6e8UBJTPMw",
        "outputId": "701b904a-10bb-4223-c0f1-2df66175ab1d"
      },
      "execution_count": 2,
      "outputs": [
        {
          "output_type": "stream",
          "name": "stdout",
          "text": [
            "\u001b[K     |████████████████████████████████| 1.7 MB 9.3 MB/s \n",
            "\u001b[K     |████████████████████████████████| 54 kB 1.5 MB/s \n",
            "\u001b[K     |████████████████████████████████| 70 kB 5.2 MB/s \n",
            "\u001b[K     |████████████████████████████████| 563 kB 42.9 MB/s \n",
            "\u001b[K     |████████████████████████████████| 112 kB 45.3 MB/s \n",
            "\u001b[K     |████████████████████████████████| 344 kB 46.8 MB/s \n",
            "\u001b[K     |████████████████████████████████| 80 kB 8.6 MB/s \n",
            "\u001b[K     |████████████████████████████████| 54 kB 2.7 MB/s \n",
            "\u001b[K     |████████████████████████████████| 59 kB 7.3 MB/s \n",
            "\u001b[K     |████████████████████████████████| 423 kB 55.6 MB/s \n",
            "\u001b[K     |████████████████████████████████| 133 kB 69.1 MB/s \n",
            "\u001b[K     |████████████████████████████████| 86 kB 5.8 MB/s \n",
            "\u001b[31mERROR: pip's dependency resolver does not currently take into account all the packages that are installed. This behaviour is the source of the following dependency conflicts.\n",
            "google-colab 1.0.0 requires tornado~=5.1.0, but you have tornado 6.2 which is incompatible.\n",
            "flask 1.1.4 requires Jinja2<3.0,>=2.10.1, but you have jinja2 3.1.2 which is incompatible.\u001b[0m\n",
            "\u001b[?25hEnabling: voila\n",
            "- Writing config: /usr/etc/jupyter\n",
            "    - Validating...\n",
            "      voila  \u001b[32mOK\u001b[0m\n"
          ]
        }
      ]
    },
    {
      "cell_type": "code",
      "source": [
        "from fastai.vision.widgets import *"
      ],
      "metadata": {
        "id": "0tGnhhgfVUS6"
      },
      "execution_count": 3,
      "outputs": []
    },
    {
      "cell_type": "code",
      "source": [
        "from transformers import T5ForConditionalGeneration,T5Tokenizer\n",
        "import torch\n",
        "\n",
        "def t5_paraphrase_sentence(prompt, num_gen):\n",
        "  \n",
        "  device = 'cuda' if torch.cuda.is_available() else 'cpu'\n",
        "  best_model_path = \"/content/drive/MyDrive/t5_base_paraphrase_newalgo\"\n",
        "  model = T5ForConditionalGeneration.from_pretrained(best_model_path).to(device)\n",
        "  tokenizer = T5Tokenizer.from_pretrained('google/mt5-base')\n",
        "\n",
        "  text =  \"paraphrase: \" + prompt + \" </s>\"\n",
        "  encoding = tokenizer.encode_plus(text,pad_to_max_length=True, return_tensors=\"pt\")\n",
        "  input_ids, attention_masks = encoding[\"input_ids\"].to(device), encoding[\"attention_mask\"].to(device)\n",
        "\n",
        "  # set top_k = 50 and set top_p = 0.95 and num_return_sequences = 3\n",
        "  beam_outputs = model.generate(\n",
        "      input_ids=input_ids, attention_mask=attention_masks,\n",
        "      do_sample=True,\n",
        "      #min_length = text_len,\n",
        "      temperature = 1.2,\n",
        "      early_stopping=True,\n",
        "      max_length = 256,\n",
        "      num_return_sequences=num_gen\n",
        "  )\n",
        "\n",
        "  results = \"\"\n",
        "  final_outputs = []\n",
        "  for beam_output in beam_outputs:\n",
        "      sent = tokenizer.decode(beam_output, skip_special_tokens=True,clean_up_tokenization_spaces=True)\n",
        "      if sent.lower() != prompt.lower() and sent not in final_outputs:\n",
        "          final_outputs.append(sent)\n",
        "          #print(final_outputs)\n",
        "          results.join(final_outputs)\n",
        "  \n",
        "\n",
        "  return final_outputs"
      ],
      "metadata": {
        "id": "LD1Sg-6pS7nk"
      },
      "execution_count": 9,
      "outputs": []
    },
    {
      "cell_type": "code",
      "source": [
        "text = input(\"Enter your sentence: \")\n",
        "num_gen = input(\"Enter the number of paraphrases: \")"
      ],
      "metadata": {
        "colab": {
          "base_uri": "https://localhost:8080/"
        },
        "id": "Y1XW8GXgTuPU",
        "outputId": "1911f5da-0ff6-42de-b817-47317c5fb8b2"
      },
      "execution_count": 5,
      "outputs": [
        {
          "name": "stdout",
          "output_type": "stream",
          "text": [
            "Enter your sentence: hello\n",
            "Enter the number of paraphrases: 2\n"
          ]
        }
      ]
    },
    {
      "cell_type": "code",
      "source": [
        "btn_run = widgets.Button(description='Paraphrase')\n",
        "btn_run"
      ],
      "metadata": {
        "colab": {
          "base_uri": "https://localhost:8080/",
          "height": 49,
          "referenced_widgets": [
            "dbde7e0247d04e0588f77e748588536c",
            "aece13dd28cb427fb7d12ef79c5ef2f7",
            "ebbda078d1bb4051b26322f17588b208"
          ]
        },
        "id": "qg5dPbeBUEsG",
        "outputId": "388040af-3732-4eaf-9a66-1f2ed336d177"
      },
      "execution_count": 11,
      "outputs": [
        {
          "output_type": "display_data",
          "data": {
            "text/plain": [
              "Button(description='Paraphrase', style=ButtonStyle())"
            ],
            "application/vnd.jupyter.widget-view+json": {
              "version_major": 2,
              "version_minor": 0,
              "model_id": "dbde7e0247d04e0588f77e748588536c"
            }
          },
          "metadata": {}
        }
      ]
    },
    {
      "cell_type": "code",
      "source": [
        "def on_click_classify(change):\n",
        "    paraphrases = t5_paraphrase_sentence(text, num_gen)\n",
        "    return paraphrases\n",
        "    \n",
        "btn_run.on_click(on_click_classify)"
      ],
      "metadata": {
        "id": "Mp0mQ_GxU1Mz"
      },
      "execution_count": 7,
      "outputs": []
    }
  ]
}